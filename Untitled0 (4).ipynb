{
  "nbformat": 4,
  "nbformat_minor": 0,
  "metadata": {
    "colab": {
      "provenance": []
    },
    "kernelspec": {
      "name": "python3",
      "display_name": "Python 3"
    },
    "language_info": {
      "name": "python"
    }
  },
  "cells": [
    {
      "cell_type": "markdown",
      "source": [
        "# **1**\n"
      ],
      "metadata": {
        "id": "c4k8G5fKH5T6"
      }
    },
    {
      "cell_type": "markdown",
      "source": [
        "What can Python do?\n",
        "\n",
        "(A)Python can be used on a server to create web applications.\n",
        "\n",
        "(B)Python can be used alongside software to create workflows.\n",
        "\n",
        "(C)Python can connect to database systems. It can also read and modify files.\n",
        "\n",
        "(D)Python can be used to handle big data and perform complex mathematics."
      ],
      "metadata": {
        "id": "XawtobZ8IIaH"
      }
    },
    {
      "cell_type": "markdown",
      "source": [
        "answer: https://www.w3schools.com/python/python_intro.asp\n",
        "\n",
        "What can Python do?\n",
        "\n",
        "Python can be used on a server to create web applications.\n",
        "\n",
        "Python can be used alongside software to create workflows.\n",
        "\n",
        "Python can connect to database systems. It can also read and modify files.\n",
        "\n",
        "Python can be used to handle big data and perform complex mathematics.\n",
        "\n",
        "Python can be used for rapid prototyping, or for production-ready software development. Why Python?"
      ],
      "metadata": {
        "id": "gPnzb3nXIc5g"
      }
    },
    {
      "cell_type": "markdown",
      "source": [
        "# **2**"
      ],
      "metadata": {
        "id": "sGyLdBKrIczh"
      }
    },
    {
      "cell_type": "markdown",
      "source": [
        "Python uses __________ to indicate a block of code\n",
        "\n",
        "(A) [] (B) {} (C) () (D) indentation\n",
        "\n",
        "answer https://www.w3schools.com/python/python_syntax.asp\n",
        "\n",
        "Python uses indentation to indicate a block of code."
      ],
      "metadata": {
        "id": "Y8dMfNpBIlCY"
      }
    },
    {
      "cell_type": "markdown",
      "source": [
        "# **3**"
      ],
      "metadata": {
        "id": "mfyfVdOHInuY"
      }
    },
    {
      "cell_type": "markdown",
      "source": [
        "Python has commenting capability for the purpose of in-code documentation. Comments start with a __________\n",
        "\n",
        "(A) A (B) # (C) / (D)&\n",
        "\n",
        "(B) #"
      ],
      "metadata": {
        "id": "ivqbzodzJBF3"
      }
    },
    {
      "cell_type": "markdown",
      "source": [
        "# **4**"
      ],
      "metadata": {
        "id": "YvYOLWWSJ5MU"
      }
    },
    {
      "cell_type": "markdown",
      "source": [],
      "metadata": {
        "id": "sgMnfoHUJ8Sb"
      }
    },
    {
      "cell_type": "code",
      "source": [
        "fruits = [\"apple\", \"banana\", \"cherry\"]\n",
        "x, y, z = fruits\n",
        "print(x)"
      ],
      "metadata": {
        "colab": {
          "base_uri": "https://localhost:8080/"
        },
        "id": "GFjMBsfsKDDq",
        "outputId": "6440e4d4-0d98-48ea-bff0-b03da0717d97"
      },
      "execution_count": 1,
      "outputs": [
        {
          "output_type": "stream",
          "name": "stdout",
          "text": [
            "apple\n"
          ]
        }
      ]
    },
    {
      "cell_type": "markdown",
      "source": [
        "\n",
        "(A) apple"
      ],
      "metadata": {
        "id": "64GuB2j_KY9S"
      }
    },
    {
      "cell_type": "markdown",
      "source": [
        "# **5**"
      ],
      "metadata": {
        "id": "knS4HTcGKzSs"
      }
    },
    {
      "cell_type": "code",
      "source": [
        "students = { 'name' => 'alice' ;  'score' =>60 }\n"
      ],
      "metadata": {
        "colab": {
          "base_uri": "https://localhost:8080/",
          "height": 130
        },
        "id": "MsIjjxrNLCa8",
        "outputId": "43752e69-176b-454b-9ebe-fd45cd5142e2"
      },
      "execution_count": 2,
      "outputs": [
        {
          "output_type": "error",
          "ename": "SyntaxError",
          "evalue": "ignored",
          "traceback": [
            "\u001b[0;36m  File \u001b[0;32m\"<ipython-input-2-ed12b19b76b9>\"\u001b[0;36m, line \u001b[0;32m1\u001b[0m\n\u001b[0;31m    students = { 'name' => 'alice' ;  'score' =>60 }\u001b[0m\n\u001b[0m                        ^\u001b[0m\n\u001b[0;31mSyntaxError\u001b[0m\u001b[0;31m:\u001b[0m invalid syntax\n"
          ]
        }
      ]
    },
    {
      "cell_type": "code",
      "source": [
        "students = { 'name' = 'alice' ;  'score' =60 }\n"
      ],
      "metadata": {
        "colab": {
          "base_uri": "https://localhost:8080/",
          "height": 130
        },
        "id": "Q8XYPwmpLD8a",
        "outputId": "58320c66-de4f-401a-95ab-ab6885c9914a"
      },
      "execution_count": 3,
      "outputs": [
        {
          "output_type": "error",
          "ename": "SyntaxError",
          "evalue": "ignored",
          "traceback": [
            "\u001b[0;36m  File \u001b[0;32m\"<ipython-input-3-2b6d7142b302>\"\u001b[0;36m, line \u001b[0;32m1\u001b[0m\n\u001b[0;31m    students = { 'name' = 'alice' ;  'score' =60 }\u001b[0m\n\u001b[0m                        ^\u001b[0m\n\u001b[0;31mSyntaxError\u001b[0m\u001b[0;31m:\u001b[0m invalid syntax\n"
          ]
        }
      ]
    },
    {
      "cell_type": "code",
      "source": [
        "students = { 'name' : 'alice' ;  'score' : 60 }\n"
      ],
      "metadata": {
        "colab": {
          "base_uri": "https://localhost:8080/",
          "height": 130
        },
        "id": "PwlApbVILHe0",
        "outputId": "379fe20b-ade1-49f6-b9c5-83d05c50b54f"
      },
      "execution_count": 4,
      "outputs": [
        {
          "output_type": "error",
          "ename": "SyntaxError",
          "evalue": "ignored",
          "traceback": [
            "\u001b[0;36m  File \u001b[0;32m\"<ipython-input-4-a6c06425b6ca>\"\u001b[0;36m, line \u001b[0;32m1\u001b[0m\n\u001b[0;31m    students = { 'name' : 'alice' ;  'score' : 60 }\u001b[0m\n\u001b[0m                                  ^\u001b[0m\n\u001b[0;31mSyntaxError\u001b[0m\u001b[0;31m:\u001b[0m invalid syntax\n"
          ]
        }
      ]
    },
    {
      "cell_type": "code",
      "source": [
        "students = { 'name' => 'alice' ,  'score' =>60 }\n"
      ],
      "metadata": {
        "colab": {
          "base_uri": "https://localhost:8080/",
          "height": 130
        },
        "id": "NAX3i2ZrLJmI",
        "outputId": "f215f913-8090-40c1-d2dd-d7737b42d8a0"
      },
      "execution_count": 5,
      "outputs": [
        {
          "output_type": "error",
          "ename": "SyntaxError",
          "evalue": "ignored",
          "traceback": [
            "\u001b[0;36m  File \u001b[0;32m\"<ipython-input-5-57cc8b55d372>\"\u001b[0;36m, line \u001b[0;32m1\u001b[0m\n\u001b[0;31m    students = { 'name' => 'alice' ,  'score' =>60 }\u001b[0m\n\u001b[0m                        ^\u001b[0m\n\u001b[0;31mSyntaxError\u001b[0m\u001b[0;31m:\u001b[0m invalid syntax\n"
          ]
        }
      ]
    },
    {
      "cell_type": "code",
      "source": [
        "students = { 'name' : 'alice' , 'score' : 60 }\n"
      ],
      "metadata": {
        "id": "bU_CJoGGLMa7"
      },
      "execution_count": 28,
      "outputs": []
    },
    {
      "cell_type": "markdown",
      "source": [
        "(E) **students = { 'name' : 'alice' , 'score' : 60 }**"
      ],
      "metadata": {
        "id": "hqKO2xKFcELr"
      }
    },
    {
      "cell_type": "markdown",
      "source": [
        "# **6**"
      ],
      "metadata": {
        "id": "jKPR9eOCLOz_"
      }
    },
    {
      "cell_type": "code",
      "source": [
        "x = 5\n",
        "y = \"John\"\n",
        "   \n",
        "print(x + y)"
      ],
      "metadata": {
        "colab": {
          "base_uri": "https://localhost:8080/",
          "height": 200
        },
        "id": "NAKQR5lNLT8-",
        "outputId": "184b463f-5c27-4930-8b86-35a1d10ac62e"
      },
      "execution_count": 7,
      "outputs": [
        {
          "output_type": "error",
          "ename": "TypeError",
          "evalue": "ignored",
          "traceback": [
            "\u001b[0;31m---------------------------------------------------------------------------\u001b[0m",
            "\u001b[0;31mTypeError\u001b[0m                                 Traceback (most recent call last)",
            "\u001b[0;32m<ipython-input-7-7c706c77b652>\u001b[0m in \u001b[0;36m<module>\u001b[0;34m\u001b[0m\n\u001b[1;32m      2\u001b[0m \u001b[0my\u001b[0m \u001b[0;34m=\u001b[0m \u001b[0;34m\"John\"\u001b[0m\u001b[0;34m\u001b[0m\u001b[0;34m\u001b[0m\u001b[0m\n\u001b[1;32m      3\u001b[0m \u001b[0;34m\u001b[0m\u001b[0m\n\u001b[0;32m----> 4\u001b[0;31m \u001b[0mprint\u001b[0m\u001b[0;34m(\u001b[0m\u001b[0mx\u001b[0m \u001b[0;34m+\u001b[0m \u001b[0my\u001b[0m\u001b[0;34m)\u001b[0m\u001b[0;34m\u001b[0m\u001b[0;34m\u001b[0m\u001b[0m\n\u001b[0m",
            "\u001b[0;31mTypeError\u001b[0m: unsupported operand type(s) for +: 'int' and 'str'"
          ]
        }
      ]
    },
    {
      "cell_type": "markdown",
      "source": [
        "D) **Python will give you an error**"
      ],
      "metadata": {
        "id": "ymr0rHeMLgCM"
      }
    },
    {
      "cell_type": "markdown",
      "source": [
        "# **7**"
      ],
      "metadata": {
        "id": "QQb1B8duLh_7"
      }
    },
    {
      "cell_type": "markdown",
      "source": [
        "(A)13//5 output: 2.6\n",
        "\n",
        "(B) 13/5 output: 2.6\n",
        "\n",
        "(C)13%5 output:3\n",
        "\n",
        "(D)y = int(2.8) output:2\n",
        "\n",
        "(B) **13/5 output: 2.6**"
      ],
      "metadata": {
        "id": "dEbcHEJxLrkr"
      }
    },
    {
      "cell_type": "markdown",
      "source": [
        "# **8**"
      ],
      "metadata": {
        "id": "znyYK-SzLtK6"
      }
    },
    {
      "cell_type": "markdown",
      "source": [
        "What does the following Python program fragment do?\n",
        "\n",
        "s=0\n",
        "\n",
        "for i in range (3 , 11) :\n",
        "\n",
        "    s+=i\n",
        "\n",
        "print (s)"
      ],
      "metadata": {
        "id": "KNbMz9SEL2iZ"
      }
    },
    {
      "cell_type": "code",
      "source": [
        "s=0\n",
        "   \n",
        "   for i in range (3 , 11) :\n",
        "       \n",
        "          s+=i\n",
        "print (s)"
      ],
      "metadata": {
        "id": "VvcOdM9vL4Kv"
      },
      "execution_count": null,
      "outputs": []
    },
    {
      "cell_type": "code",
      "source": [
        "x = range(3,11)\n",
        "\n",
        "for n in x:\n",
        "  print(n)\n"
      ],
      "metadata": {
        "colab": {
          "base_uri": "https://localhost:8080/"
        },
        "id": "lwL6JeyaMdb9",
        "outputId": "e8b510c4-4a22-4885-8cf1-d9736f8b4020"
      },
      "execution_count": 16,
      "outputs": [
        {
          "output_type": "stream",
          "name": "stdout",
          "text": [
            "3\n",
            "4\n",
            "5\n",
            "6\n",
            "7\n",
            "8\n",
            "9\n",
            "10\n"
          ]
        }
      ]
    },
    {
      "cell_type": "markdown",
      "source": [
        "(D)** Calculate the sum of 3+4+5+6+…+10**"
      ],
      "metadata": {
        "id": "mE65yCbIctIf"
      }
    },
    {
      "cell_type": "markdown",
      "source": [
        "# **9**\n"
      ],
      "metadata": {
        "id": "0otzo8rKMitF"
      }
    },
    {
      "cell_type": "code",
      "source": [
        "a = \"Hello, World!\"\n",
        "print(a[2:5]+ a[3:8])"
      ],
      "metadata": {
        "colab": {
          "base_uri": "https://localhost:8080/"
        },
        "id": "oEqunQWDMrRU",
        "outputId": "6a165952-411b-4f30-ea9f-4c5bd4e37b85"
      },
      "execution_count": 17,
      "outputs": [
        {
          "output_type": "stream",
          "name": "stdout",
          "text": [
            "llolo, W\n"
          ]
        }
      ]
    },
    {
      "cell_type": "markdown",
      "source": [
        "(C) **llolo, W**"
      ],
      "metadata": {
        "id": "ANQZcOH2NF0z"
      }
    },
    {
      "cell_type": "markdown",
      "source": [
        "# **10**"
      ],
      "metadata": {
        "id": "YkgLP7p7NPM4"
      }
    },
    {
      "cell_type": "markdown",
      "source": [
        "Which function can returns the length of a string? a = \"Hello, Pythonian!\" print(_________)\n",
        "\n",
        "(A) len(a) (B) length(a) (C) count(a) (D) num(a)"
      ],
      "metadata": {
        "id": "qI9dltUDNWNd"
      }
    },
    {
      "cell_type": "markdown",
      "source": [
        "https://www.w3schools.com/python/python_strings.asp\n",
        "\n",
        "(B) length(a)"
      ],
      "metadata": {
        "id": "dT0ZBDpUN2BQ"
      }
    },
    {
      "cell_type": "markdown",
      "source": [
        "# **11**\n"
      ],
      "metadata": {
        "id": "z-xrE-eoN5Z5"
      }
    },
    {
      "cell_type": "markdown",
      "source": [
        "What is the output of this code in Python?\n",
        "\n",
        "  list = [ ' a ' ,  ' b ' ,  ' c ' ,  ' d ' ,  ' e ' ]\n",
        "\n",
        "  print (list [ 1 : ])\n",
        "\n",
        "(A) [ ] (B) [ 'b' ] (C) [ 'a' , 'b' ] (D) [ 'b' , 'c' , 'd' , 'e' ]"
      ],
      "metadata": {
        "id": "XcjO4tmGN_Gv"
      }
    },
    {
      "cell_type": "code",
      "source": [
        "list = [ ' a ' ,  ' b ' ,  ' c ' ,  ' d ' ,  ' e ' ]\n",
        "print (list [ 1 : ])"
      ],
      "metadata": {
        "colab": {
          "base_uri": "https://localhost:8080/"
        },
        "id": "ddaLCZ2CN_mq",
        "outputId": "ee019b5a-6667-4c3b-e02d-7f4c2871eb8b"
      },
      "execution_count": 18,
      "outputs": [
        {
          "output_type": "stream",
          "name": "stdout",
          "text": [
            "[' b ', ' c ', ' d ', ' e ']\n"
          ]
        }
      ]
    },
    {
      "cell_type": "markdown",
      "source": [
        "(D) **[ 'b' , 'c' , 'd' , 'e' ]**\n"
      ],
      "metadata": {
        "id": "mD9GM5_COGnV"
      }
    },
    {
      "cell_type": "markdown",
      "source": [
        "# **12**\n"
      ],
      "metadata": {
        "id": "qt4zX4ZHOHI1"
      }
    },
    {
      "cell_type": "markdown",
      "source": [
        "What is the output of this code in Python?\n",
        "\n",
        "    L1 = [ ]\n",
        "\n",
        "    L1.append ( [1, [2, 3], 4] )\n",
        "\n",
        "    L1.extend ( [7, 8, 9] )\n",
        "\n",
        "    print(L1[0][1][1] + L1[2] )"
      ],
      "metadata": {
        "id": "kN8B-Bt5OLhh"
      }
    },
    {
      "cell_type": "markdown",
      "source": [
        "(A) **3 (B) 8 (C) 11 (D) 38 (E) None of these**"
      ],
      "metadata": {
        "id": "qM9yX0m_OMHV"
      }
    },
    {
      "cell_type": "code",
      "source": [
        "L1 = []\n",
        "L1.append ( [1, [2, 3], 4] )\n",
        "L1.extend ( [7, 8, 9] )\n",
        "\n",
        "print(L1[0][1][1] + L1[2])"
      ],
      "metadata": {
        "colab": {
          "base_uri": "https://localhost:8080/"
        },
        "id": "6wdg-M93OSUg",
        "outputId": "b1f034a7-cecd-4648-f991-de82f5aa02c8"
      },
      "execution_count": 19,
      "outputs": [
        {
          "output_type": "stream",
          "name": "stdout",
          "text": [
            "11\n"
          ]
        }
      ]
    },
    {
      "cell_type": "markdown",
      "source": [
        "(C)** 11**"
      ],
      "metadata": {
        "id": "DdW7zy29PnZ2"
      }
    },
    {
      "cell_type": "markdown",
      "source": [
        "# **13**"
      ],
      "metadata": {
        "id": "Zkxy502fOYQn"
      }
    },
    {
      "cell_type": "markdown",
      "source": [
        "heck if \"free\" is present in the following text:\n",
        "\n",
        "txt = \"The best things in life are free!\" print(\"free\" ______ txt)\n",
        "\n",
        "Which is the correct answer?\n",
        "\n",
        "(A) on (B) with (C) at (D) in"
      ],
      "metadata": {
        "id": "WuX4ajjWOZpI"
      }
    },
    {
      "cell_type": "code",
      "source": [
        "txt = \"The best things in life are free!\"\n",
        "print(\"free\" in txt)"
      ],
      "metadata": {
        "colab": {
          "base_uri": "https://localhost:8080/"
        },
        "id": "BNoIilq9OeTR",
        "outputId": "9626087b-9fd7-4a55-e3a2-daa8ca16eb29"
      },
      "execution_count": 20,
      "outputs": [
        {
          "output_type": "stream",
          "name": "stdout",
          "text": [
            "True\n"
          ]
        }
      ]
    },
    {
      "cell_type": "markdown",
      "source": [
        "(D) **in **"
      ],
      "metadata": {
        "id": "eIu6x2xhOgVX"
      }
    },
    {
      "cell_type": "markdown",
      "source": [
        "# **14**"
      ],
      "metadata": {
        "id": "D32Qoe5nOhN-"
      }
    },
    {
      "cell_type": "markdown",
      "source": [
        "Which of the following conditions correctly describes the output of this code in Python?\n",
        "\n",
        "     first = [1 , 2 , 3 , 4 , 5]\n",
        "\n",
        "     second = first\n",
        "\n",
        "     second.append (6)\n",
        "\n",
        "     print (first)\n",
        "\n",
        "     print (second)"
      ],
      "metadata": {
        "id": "BxXov8V_OkF-"
      }
    },
    {
      "cell_type": "markdown",
      "source": [
        "A) first=[1, 2, 3, 4, 5], second=[1, 2, 3, 4, 5, 6]\n",
        "\n",
        "(B) first=[1, 2, 3, 4, 5, 6], second=[1, 2, 3, 4, 5]\n",
        "\n",
        "(C) first=[1, 2, 3, 4, 5], second=[1, 2, 3, 4, 5]\n",
        "\n",
        "(D) first=[1, 2, 3, 4, 5, 6], second=[1, 2, 3, 4, 5, 6]\n",
        "\n",
        "(E) None of these"
      ],
      "metadata": {
        "id": "LsO4BjBhOmkW"
      }
    },
    {
      "cell_type": "code",
      "source": [
        "first = [1 , 2 , 3 , 4 , 5]\n",
        "second = first\n",
        "second.append (6)\n",
        "print (first)\n",
        "print (second)"
      ],
      "metadata": {
        "colab": {
          "base_uri": "https://localhost:8080/"
        },
        "id": "ocSiQs_aOpM9",
        "outputId": "550d8ba5-b130-4306-dc83-b8735a9c2727"
      },
      "execution_count": 21,
      "outputs": [
        {
          "output_type": "stream",
          "name": "stdout",
          "text": [
            "[1, 2, 3, 4, 5, 6]\n",
            "[1, 2, 3, 4, 5, 6]\n"
          ]
        }
      ]
    },
    {
      "cell_type": "markdown",
      "source": [
        "(D) **first=[1, 2, 3, 4, 5, 6], second=[1, 2, 3, 4, 5, 6]**"
      ],
      "metadata": {
        "id": "R2TRrdLTdiPs"
      }
    },
    {
      "cell_type": "markdown",
      "source": [
        "# **15**"
      ],
      "metadata": {
        "id": "Lbhepumydm9v"
      }
    },
    {
      "cell_type": "markdown",
      "source": [
        "Python has a set of built-in methods that you can use on strings. Which method can converts string into lower case ?\n",
        "\n",
        "(A)capitalize() (B) casefold() (C) lower()\n",
        "(D)expandtabs()"
      ],
      "metadata": {
        "id": "nVMfnDqTO50x"
      }
    },
    {
      "cell_type": "markdown",
      "source": [
        "https://www.google.com/search?q=Python+has+a+set+of+built-in+methods+that+you+can+use+on+strings.+Which+method+can+converts+string+into+lower+case+%3F&rlz=1C1ONGR_enPH1023PH1023&oq=Python+has+a+set+of+built-in+methods+that+you+can+use+on+strings.+Which+method+can+converts+string+into+lower+case+%3F&aqs=chrome..69i57.263j0j9&sourceid=chrome&ie=UTF-8"
      ],
      "metadata": {
        "id": "g5r0i3NjP-a-"
      }
    },
    {
      "cell_type": "markdown",
      "source": [],
      "metadata": {
        "id": "UVrt54ZZQZZ5"
      }
    },
    {
      "cell_type": "markdown",
      "source": [
        "# **(C) lower ()**\n",
        "\n"
      ],
      "metadata": {
        "id": "JJnKaujgQm6o"
      }
    },
    {
      "cell_type": "markdown",
      "source": [
        "# **16**"
      ],
      "metadata": {
        "id": "Ahsz2AJmQ2bG"
      }
    },
    {
      "cell_type": "markdown",
      "source": [
        "Python Booleans Which one of the following statements is wrong?\n",
        "\n",
        "(A) Booleans represent one of two values: True or False.\n",
        "\n",
        "(B) The bool() function allows you to evaluate any value, and give you True or False in return,\n",
        "\n",
        "(C) print(10 > 9) will output True\n",
        "\n",
        "(D) print(10 = 9) will output True"
      ],
      "metadata": {
        "id": "zVLulOuFRDen"
      }
    },
    {
      "cell_type": "code",
      "source": [
        "print(10 = 9)"
      ],
      "metadata": {
        "colab": {
          "base_uri": "https://localhost:8080/",
          "height": 130
        },
        "id": "RdTFT_mFRSB7",
        "outputId": "efc7b0bb-e714-48b4-cef2-ebb134441bd0"
      },
      "execution_count": 23,
      "outputs": [
        {
          "output_type": "error",
          "ename": "SyntaxError",
          "evalue": "ignored",
          "traceback": [
            "\u001b[0;36m  File \u001b[0;32m\"<ipython-input-23-bfffe3a677b9>\"\u001b[0;36m, line \u001b[0;32m1\u001b[0m\n\u001b[0;31m    print(10 = 9)\u001b[0m\n\u001b[0m         ^\u001b[0m\n\u001b[0;31mSyntaxError\u001b[0m\u001b[0;31m:\u001b[0m keyword can't be an expression\n"
          ]
        }
      ]
    },
    {
      "cell_type": "markdown",
      "source": [
        "(D) **print(10 = 9) will output True**"
      ],
      "metadata": {
        "id": "TActdGbRRufA"
      }
    },
    {
      "cell_type": "markdown",
      "source": [
        "# **17**"
      ],
      "metadata": {
        "id": "ZG0W01R4Rydv"
      }
    },
    {
      "cell_type": "markdown",
      "source": [
        "Python Lists Which of the following statements is wrong?\n",
        "\n",
        "(A) Lists are used to store multiple items in a single variable.\n",
        "\n",
        "(B) Lists are created using square brackets\n",
        "\n",
        "(C) List items are ordered, changeable, and allow duplicate values.\n",
        "\n",
        "(D) Lists can not have items with the same value"
      ],
      "metadata": {
        "id": "tlPFqIDkR3Ee"
      }
    },
    {
      "cell_type": "markdown",
      "source": [
        "# (D) **Lists can not have items with the same value**"
      ],
      "metadata": {
        "id": "FyikE1r4R7w-"
      }
    },
    {
      "cell_type": "markdown",
      "source": [
        "# **18**"
      ],
      "metadata": {
        "id": "MA72E4LNSKV2"
      }
    },
    {
      "cell_type": "markdown",
      "source": [
        "Which one of the codes will output ['apple', 'orange', 'banana', 'cherry'] ?\n",
        "\n",
        "mylist = [\"apple\", \"banana\", \"cherry\"] _____________________ print(mylist)\n",
        "\n",
        "(A)mylist.append(\"orange\")\n",
        "\n",
        "(B)mylist.insert(0, \"orange\")\n",
        "\n",
        "(C)mylist.insert(1, \"orange\")\n",
        "\n",
        "(D)mylist.insert(2, \"orange\")\n",
        "\n"
      ],
      "metadata": {
        "id": "usVaV4pWSUuP"
      }
    },
    {
      "cell_type": "code",
      "source": [
        "['apple', 'orange', 'banana', 'cherry']\n",
        "mylist = [\"apple\", \"banana\", \"cherry\"]\n",
        "\n",
        "mylist.insert(1, \"orange\")   \n",
        "print(mylist)"
      ],
      "metadata": {
        "colab": {
          "base_uri": "https://localhost:8080/"
        },
        "id": "LlYZiLiVSfDF",
        "outputId": "c4d426b3-de4e-4100-bff0-46148bd79843"
      },
      "execution_count": 24,
      "outputs": [
        {
          "output_type": "stream",
          "name": "stdout",
          "text": [
            "['apple', 'orange', 'banana', 'cherry']\n"
          ]
        }
      ]
    },
    {
      "cell_type": "markdown",
      "source": [
        "# **(C)mylist.insert(1, \"orange\")**"
      ],
      "metadata": {
        "id": "jaAfxjZsSoVd"
      }
    },
    {
      "cell_type": "markdown",
      "source": [
        "# **19**"
      ],
      "metadata": {
        "id": "lAG4gE7bStWH"
      }
    },
    {
      "cell_type": "markdown",
      "source": [
        "Python has a set of built-in methods that you can use on dictionaries. Which statements are correct ?\n",
        "\n",
        "(A) clear() will removes all the elements from the dictionary\n",
        "\n",
        "(B) copy() will returns a copy of the dictionary\n",
        "\n",
        "(C) items() will returns a list containing a tuple for each key value pair\n",
        "\n",
        "(D) popitem() will removes the last inserted key-value pa"
      ],
      "metadata": {
        "id": "felr_fbnSyeG"
      }
    },
    {
      "cell_type": "markdown",
      "source": [
        "# (C) **items() will returns a list containing a tuple for each key value pair**"
      ],
      "metadata": {
        "id": "0h8beIFpS212"
      }
    },
    {
      "cell_type": "markdown",
      "source": [
        "# **20**"
      ],
      "metadata": {
        "id": "LH8iQTmAS_GB"
      }
    },
    {
      "cell_type": "markdown",
      "source": [
        "Python supports the usual logical conditions from mathematics: Which statements are correct ?\n",
        "\n",
        "(A)Equals: a = b\n",
        "\n",
        "(B)Not Equals: a != b\n",
        "\n",
        "(C)Less than or equal to: a <= b\n",
        "\n",
        "(D)Greater than: a > b"
      ],
      "metadata": {
        "id": "S5vNi55jTFOJ"
      }
    },
    {
      "cell_type": "markdown",
      "source": [
        "(A)**Equals: a = b**"
      ],
      "metadata": {
        "id": "BjHzL7OXTIlW"
      }
    },
    {
      "cell_type": "markdown",
      "source": [
        "# **21**"
      ],
      "metadata": {
        "id": "L2IP3i15TQF9"
      }
    },
    {
      "cell_type": "markdown",
      "source": [
        "What is the output of this code in Python?"
      ],
      "metadata": {
        "id": "i-EZYO1EgCOD"
      }
    },
    {
      "cell_type": "code",
      "source": [
        "i = 1\n",
        "while i < 6:\n",
        "  print(i)\n",
        "  if (i == 3):\n",
        "    break\n",
        "  i += 1"
      ],
      "metadata": {
        "colab": {
          "base_uri": "https://localhost:8080/"
        },
        "id": "4bO-nFPCeeWx",
        "outputId": "b6260a91-51c7-4ef8-a434-04bb2114226a"
      },
      "execution_count": 29,
      "outputs": [
        {
          "output_type": "stream",
          "name": "stdout",
          "text": [
            "1\n",
            "2\n",
            "3\n"
          ]
        }
      ]
    },
    {
      "cell_type": "markdown",
      "source": [
        "(A)"
      ],
      "metadata": {
        "id": "caPYaJ_mehxS"
      }
    },
    {
      "cell_type": "markdown",
      "source": [
        "**1**"
      ],
      "metadata": {
        "id": "S8oI86wReseV"
      }
    },
    {
      "cell_type": "markdown",
      "source": [
        "**2**"
      ],
      "metadata": {
        "id": "P5bxeZKcev5K"
      }
    },
    {
      "cell_type": "markdown",
      "source": [
        "**3**"
      ],
      "metadata": {
        "id": "aGW-TPCEeyq1"
      }
    },
    {
      "cell_type": "markdown",
      "source": [
        "# **22**"
      ],
      "metadata": {
        "id": "n6ZqbdNSeFfy"
      }
    },
    {
      "cell_type": "markdown",
      "source": [
        "What is the output of this code in Python?"
      ],
      "metadata": {
        "id": "SaqZ67mbeJz6"
      }
    },
    {
      "cell_type": "code",
      "source": [
        "i = 0\n",
        "while i < 6:\n",
        "  i += 1\n",
        "  if i == 3:\n",
        "    continue\n",
        "  print(i)"
      ],
      "metadata": {
        "colab": {
          "base_uri": "https://localhost:8080/"
        },
        "id": "z2by2VtSfG30",
        "outputId": "b46f5364-af33-41f2-e59a-dca0ee36b637"
      },
      "execution_count": 30,
      "outputs": [
        {
          "output_type": "stream",
          "name": "stdout",
          "text": [
            "1\n",
            "2\n",
            "4\n",
            "5\n",
            "6\n"
          ]
        }
      ]
    },
    {
      "cell_type": "markdown",
      "source": [
        "(B)"
      ],
      "metadata": {
        "id": "AHTA8-FTfIua"
      }
    },
    {
      "cell_type": "markdown",
      "source": [
        "**1**"
      ],
      "metadata": {
        "id": "-apEYWJCfMko"
      }
    },
    {
      "cell_type": "markdown",
      "source": [
        "**2**"
      ],
      "metadata": {
        "id": "j6XTUc_RfRjX"
      }
    },
    {
      "cell_type": "markdown",
      "source": [
        "**3**"
      ],
      "metadata": {
        "id": "x_5JzqyffVX-"
      }
    },
    {
      "cell_type": "markdown",
      "source": [
        "**4**"
      ],
      "metadata": {
        "id": "5AcuNBB4fX8P"
      }
    },
    {
      "cell_type": "markdown",
      "source": [
        "**5**"
      ],
      "metadata": {
        "id": "HNO0iVrWfZrv"
      }
    },
    {
      "cell_type": "markdown",
      "source": [
        "**6**"
      ],
      "metadata": {
        "id": "SM7gZB7BfdhI"
      }
    },
    {
      "cell_type": "markdown",
      "source": [],
      "metadata": {
        "id": "v_TWhSQ3fbWS"
      }
    },
    {
      "cell_type": "markdown",
      "source": [
        "\n",
        "# **23**"
      ],
      "metadata": {
        "id": "LDDJZGx9UdvY"
      }
    },
    {
      "cell_type": "markdown",
      "source": [
        "If the function int volume (int x = 1, int y = 1, int z = 1); is called by the expression volume (7,8), how many default arguments are used?\n",
        "\n",
        "(A) None (B) One (C) Two (D) Three (E) It depends on the runtime environment."
      ],
      "metadata": {
        "id": "VvR7kLOMUlqk"
      }
    },
    {
      "cell_type": "markdown",
      "source": [
        "(C) **Two**"
      ],
      "metadata": {
        "id": "Gln4w3sOUrDH"
      }
    },
    {
      "cell_type": "markdown",
      "source": [
        "# **24**"
      ],
      "metadata": {
        "id": "f69i6BTeUwCb"
      }
    },
    {
      "cell_type": "markdown",
      "source": [
        "What is the output of this code in python?\n",
        "\n",
        "    r = lambda q: q * 2\n",
        "\n",
        "    s = lambda q: q * 3\n",
        "\n",
        "    x = 2\n",
        "\n",
        "    x = r (x)\n",
        "\n",
        "    x = s (x)\n",
        "\n",
        "    x = r (x)\n",
        "\n",
        "    print (x\n",
        "\n",
        "    A) 2  (B) 4  (C) 6  (D) 12  (E) 24"
      ],
      "metadata": {
        "id": "J6rJutOUU3_w"
      }
    },
    {
      "cell_type": "code",
      "source": [
        "r = lambda q: q * 2\n",
        "s = lambda q: q * 3\n",
        "x = 2\n",
        "x = r (x)\n",
        "x = s (x)\n",
        "x = r (x)\n",
        "print (x)"
      ],
      "metadata": {
        "colab": {
          "base_uri": "https://localhost:8080/"
        },
        "id": "NCyZE-vJVANS",
        "outputId": "edcf3c37-9cde-4d84-8071-5b3c3910d93d"
      },
      "execution_count": 26,
      "outputs": [
        {
          "output_type": "stream",
          "name": "stdout",
          "text": [
            "24\n"
          ]
        }
      ]
    },
    {
      "cell_type": "markdown",
      "source": [
        "(E) **24**"
      ],
      "metadata": {
        "id": "ESKPV-MzVHZz"
      }
    },
    {
      "cell_type": "markdown",
      "source": [
        "# **25**"
      ],
      "metadata": {
        "id": "gPlbJ3U8VMgB"
      }
    },
    {
      "cell_type": "markdown",
      "source": [
        "A recursive function is defined as below: def tri_recursion(k):\n",
        "\n",
        "if(k > 0):\n",
        "\n",
        "result = k + tri_recursion(k - 1)\n",
        "\n",
        "print(result)\n",
        "\n",
        "else:\n",
        "\n",
        "result = 0\n",
        "\n",
        "return result\n",
        "\n",
        "What Is The Last Line Of The Output When tri_recursion(6) is executed?\n",
        "\n",
        "(A) 6 (B) 10 (C) 15 (D) 21 (E) 28"
      ],
      "metadata": {
        "id": "RdahcR8vVTRx"
      }
    },
    {
      "cell_type": "code",
      "source": [
        "def tri_recursion(k):\n",
        "  if(k > 0):\n",
        "    result = k + tri_recursion(k - 1)\n",
        "    print(result)\n",
        "  else:\n",
        "    result = 0\n",
        "  return result"
      ],
      "metadata": {
        "id": "qz9Z5rPKVXq3"
      },
      "execution_count": 27,
      "outputs": []
    },
    {
      "cell_type": "markdown",
      "source": [
        "(D) **21**"
      ],
      "metadata": {
        "id": "CS-_-cx-Vu3I"
      }
    },
    {
      "cell_type": "markdown",
      "source": [],
      "metadata": {
        "id": "YieXVpO2VwwX"
      }
    }
  ]
}